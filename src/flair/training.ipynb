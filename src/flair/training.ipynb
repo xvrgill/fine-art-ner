{
 "cells": [
  {
   "cell_type": "code",
   "id": "initial_id",
   "metadata": {
    "collapsed": true,
    "ExecuteTime": {
     "end_time": "2024-12-16T11:03:19.698351Z",
     "start_time": "2024-12-16T11:03:19.689940Z"
    }
   },
   "source": [
    "from flair.data import Corpus, Sentence\n",
    "from flair.datasets import ColumnCorpus\n",
    "from flair.embeddings import WordEmbeddings, StackedEmbeddings, FlairEmbeddings\n",
    "from flair.models import SequenceTagger\n",
    "from flair.trainers import ModelTrainer"
   ],
   "outputs": [],
   "execution_count": 20
  },
  {
   "metadata": {
    "ExecuteTime": {
     "end_time": "2024-12-16T11:03:19.716673Z",
     "start_time": "2024-12-16T11:03:19.713081Z"
    }
   },
   "cell_type": "code",
   "source": "columns = {0: 'text', 1: 'ner'}",
   "id": "29255e1cefdfe108",
   "outputs": [],
   "execution_count": 21
  },
  {
   "metadata": {
    "ExecuteTime": {
     "end_time": "2024-12-16T11:03:19.810968Z",
     "start_time": "2024-12-16T11:03:19.749482Z"
    }
   },
   "cell_type": "code",
   "source": [
    "data_folder = \"./training_test\"\n",
    "corpus = ColumnCorpus(\n",
    "    data_folder,\n",
    "    columns,\n",
    "    train_file=\"train.txt\",\n",
    "    test_file=\"test.txt\",\n",
    "    dev_file=\"dev.txt\"\n",
    ")"
   ],
   "id": "e92879b1e7f87806",
   "outputs": [
    {
     "name": "stdout",
     "output_type": "stream",
     "text": [
      "2024-12-16 06:03:19,751 Reading data from training_test\n",
      "2024-12-16 06:03:19,754 Train: training_test/train.txt\n",
      "2024-12-16 06:03:19,755 Dev: training_test/dev.txt\n",
      "2024-12-16 06:03:19,757 Test: training_test/test.txt\n"
     ]
    }
   ],
   "execution_count": 22
  },
  {
   "metadata": {
    "ExecuteTime": {
     "end_time": "2024-12-16T11:03:25.613185Z",
     "start_time": "2024-12-16T11:03:19.844458Z"
    }
   },
   "cell_type": "code",
   "source": [
    "embedding_types = [\n",
    "    WordEmbeddings(\"glove\"),\n",
    "    FlairEmbeddings(\"news-forward\"),\n",
    "    FlairEmbeddings(\"news-backward\")\n",
    "]\n",
    "embeddings = StackedEmbeddings(embeddings=embedding_types)"
   ],
   "id": "9d16273543725f91",
   "outputs": [],
   "execution_count": 23
  },
  {
   "metadata": {
    "ExecuteTime": {
     "end_time": "2024-12-16T11:03:25.803312Z",
     "start_time": "2024-12-16T11:03:25.628848Z"
    }
   },
   "cell_type": "code",
   "source": [
    "tagger = SequenceTagger(\n",
    "    hidden_size=256,\n",
    "    embeddings=embeddings,\n",
    "    tag_dictionary=corpus.make_label_dictionary(label_type=\"ner\"),\n",
    "    tag_type=\"ner\",\n",
    "    use_crf=True\n",
    ")"
   ],
   "id": "190515a327f7d36c",
   "outputs": [
    {
     "name": "stdout",
     "output_type": "stream",
     "text": [
      "2024-12-16 06:03:25,630 Computing label dictionary. Progress:\n"
     ]
    },
    {
     "name": "stderr",
     "output_type": "stream",
     "text": [
      "0it [00:00, ?it/s]\n",
      "63it [00:00, 9725.47it/s]"
     ]
    },
    {
     "name": "stdout",
     "output_type": "stream",
     "text": [
      "2024-12-16 06:03:25,646 Dictionary created for label 'ner' with 6 values: DIMENSION (seen 64 times), MEDIUM (seen 63 times), ARTIST (seen 63 times), DATE (seen 63 times), ART_TITLE (seen 62 times), TITLE (seen 1 times)\n",
      "2024-12-16 06:03:25,647 SequenceTagger predicts: Dictionary with 25 tags: O, S-DIMENSION, B-DIMENSION, E-DIMENSION, I-DIMENSION, S-MEDIUM, B-MEDIUM, E-MEDIUM, I-MEDIUM, S-ARTIST, B-ARTIST, E-ARTIST, I-ARTIST, S-DATE, B-DATE, E-DATE, I-DATE, S-ART_TITLE, B-ART_TITLE, E-ART_TITLE, I-ART_TITLE, S-TITLE, B-TITLE, E-TITLE, I-TITLE\n"
     ]
    },
    {
     "name": "stderr",
     "output_type": "stream",
     "text": [
      "\n"
     ]
    }
   ],
   "execution_count": 24
  },
  {
   "metadata": {
    "ExecuteTime": {
     "end_time": "2024-12-16T11:03:25.836153Z",
     "start_time": "2024-12-16T11:03:25.831466Z"
    }
   },
   "cell_type": "code",
   "source": [
    "# Train the model.\n",
    "trainer = ModelTrainer(tagger, corpus)"
   ],
   "id": "101e512920f3d3af",
   "outputs": [],
   "execution_count": 25
  },
  {
   "metadata": {
    "ExecuteTime": {
     "end_time": "2024-12-16T11:03:49.641628Z",
     "start_time": "2024-12-16T11:03:25.861253Z"
    }
   },
   "cell_type": "code",
   "source": [
    "trainer.train(\n",
    "    \"./ner-model\",\n",
    "    learning_rate=0.1,\n",
    "    mini_batch_size=32,\n",
    "    max_epochs=10\n",
    ")"
   ],
   "id": "cff09709c685341",
   "outputs": [
    {
     "name": "stdout",
     "output_type": "stream",
     "text": [
      "2024-12-16 06:03:25,904 ----------------------------------------------------------------------------------------------------\n",
      "2024-12-16 06:03:25,906 Model: \"SequenceTagger(\n",
      "  (embeddings): StackedEmbeddings(\n",
      "    (list_embedding_0): WordEmbeddings(\n",
      "      'glove'\n",
      "      (embedding): Embedding(400001, 100)\n",
      "    )\n",
      "    (list_embedding_1): FlairEmbeddings(\n",
      "      (lm): LanguageModel(\n",
      "        (drop): Dropout(p=0.05, inplace=False)\n",
      "        (encoder): Embedding(300, 100)\n",
      "        (rnn): LSTM(100, 2048)\n",
      "      )\n",
      "    )\n",
      "    (list_embedding_2): FlairEmbeddings(\n",
      "      (lm): LanguageModel(\n",
      "        (drop): Dropout(p=0.05, inplace=False)\n",
      "        (encoder): Embedding(300, 100)\n",
      "        (rnn): LSTM(100, 2048)\n",
      "      )\n",
      "    )\n",
      "  )\n",
      "  (word_dropout): WordDropout(p=0.05)\n",
      "  (locked_dropout): LockedDropout(p=0.5)\n",
      "  (embedding2nn): Linear(in_features=4196, out_features=4196, bias=True)\n",
      "  (rnn): LSTM(4196, 256, batch_first=True, bidirectional=True)\n",
      "  (linear): Linear(in_features=512, out_features=27, bias=True)\n",
      "  (loss_function): ViterbiLoss()\n",
      "  (crf): CRF()\n",
      ")\"\n",
      "2024-12-16 06:03:25,907 ----------------------------------------------------------------------------------------------------\n",
      "2024-12-16 06:03:25,909 Corpus: 63 train + 0 dev + 38 test sentences\n",
      "2024-12-16 06:03:25,910 ----------------------------------------------------------------------------------------------------\n",
      "2024-12-16 06:03:25,911 Train:  63 sentences\n",
      "2024-12-16 06:03:25,912         (train_with_dev=False, train_with_test=False)\n",
      "2024-12-16 06:03:25,914 ----------------------------------------------------------------------------------------------------\n",
      "2024-12-16 06:03:25,917 Training Params:\n",
      "2024-12-16 06:03:25,919  - learning_rate: \"0.1\" \n",
      "2024-12-16 06:03:25,920  - mini_batch_size: \"32\"\n",
      "2024-12-16 06:03:25,921  - max_epochs: \"10\"\n",
      "2024-12-16 06:03:25,923  - shuffle: \"True\"\n",
      "2024-12-16 06:03:25,924 ----------------------------------------------------------------------------------------------------\n",
      "2024-12-16 06:03:25,926 Plugins:\n",
      "2024-12-16 06:03:25,928  - AnnealOnPlateau | patience: '3', anneal_factor: '0.5', min_learning_rate: '0.0001'\n",
      "2024-12-16 06:03:25,929 ----------------------------------------------------------------------------------------------------\n",
      "2024-12-16 06:03:25,930 Final evaluation on model from best epoch (best-model.pt)\n",
      "2024-12-16 06:03:25,932  - metric: \"('micro avg', 'f1-score')\"\n",
      "2024-12-16 06:03:25,933 ----------------------------------------------------------------------------------------------------\n",
      "2024-12-16 06:03:25,934 Computation:\n",
      "2024-12-16 06:03:25,936  - compute on device: cpu\n",
      "2024-12-16 06:03:25,937  - embedding storage: cpu\n",
      "2024-12-16 06:03:25,938 ----------------------------------------------------------------------------------------------------\n",
      "2024-12-16 06:03:25,941 Model training base path: \"ner-model\"\n",
      "2024-12-16 06:03:25,942 ----------------------------------------------------------------------------------------------------\n",
      "2024-12-16 06:03:25,944 ----------------------------------------------------------------------------------------------------\n"
     ]
    },
    {
     "name": "stderr",
     "output_type": "stream",
     "text": [
      "/Users/xaviergill/Code/fine_art_ner/.venv/lib/python3.10/site-packages/flair/trainers/trainer.py:84: UserWarning: There should be no best model saved at epoch 1 except there is a model from previous trainings in your training folder. All previous best models will be deleted.\n",
      "  warnings.warn(\n"
     ]
    },
    {
     "name": "stdout",
     "output_type": "stream",
     "text": [
      "2024-12-16 06:03:27,737 epoch 1 - iter 1/2 - loss 3.91807073 - time (sec): 1.79 - samples/sec: 227.19 - lr: 0.100000 - momentum: 0.000000\n",
      "2024-12-16 06:03:29,655 epoch 1 - iter 2/2 - loss 3.73599163 - time (sec): 3.71 - samples/sec: 214.84 - lr: 0.100000 - momentum: 0.000000\n",
      "2024-12-16 06:03:29,657 ----------------------------------------------------------------------------------------------------\n",
      "2024-12-16 06:03:29,659 EPOCH 1 done: loss 3.7360 - lr: 0.100000\n",
      "2024-12-16 06:03:29,661  - 0 epochs without improvement\n",
      "2024-12-16 06:03:29,665 saving best model\n",
      "2024-12-16 06:03:31,648 ----------------------------------------------------------------------------------------------------\n",
      "2024-12-16 06:03:32,308 epoch 2 - iter 1/2 - loss 3.26421360 - time (sec): 0.66 - samples/sec: 611.37 - lr: 0.100000 - momentum: 0.000000\n",
      "2024-12-16 06:03:32,948 epoch 2 - iter 2/2 - loss 3.13899627 - time (sec): 1.30 - samples/sec: 614.08 - lr: 0.100000 - momentum: 0.000000\n",
      "2024-12-16 06:03:32,951 ----------------------------------------------------------------------------------------------------\n",
      "2024-12-16 06:03:32,952 EPOCH 2 done: loss 3.1390 - lr: 0.100000\n",
      "2024-12-16 06:03:32,954  - 1 epochs without improvement\n",
      "2024-12-16 06:03:32,958 ----------------------------------------------------------------------------------------------------\n",
      "2024-12-16 06:03:33,557 epoch 3 - iter 1/2 - loss 2.79691967 - time (sec): 0.60 - samples/sec: 668.86 - lr: 0.100000 - momentum: 0.000000\n",
      "2024-12-16 06:03:34,014 epoch 3 - iter 2/2 - loss 2.66315923 - time (sec): 1.05 - samples/sec: 756.60 - lr: 0.100000 - momentum: 0.000000\n",
      "2024-12-16 06:03:34,018 ----------------------------------------------------------------------------------------------------\n",
      "2024-12-16 06:03:34,020 EPOCH 3 done: loss 2.6632 - lr: 0.100000\n",
      "2024-12-16 06:03:34,022  - 2 epochs without improvement\n",
      "2024-12-16 06:03:34,025 ----------------------------------------------------------------------------------------------------\n",
      "2024-12-16 06:03:34,567 epoch 4 - iter 1/2 - loss 2.50963667 - time (sec): 0.54 - samples/sec: 756.88 - lr: 0.100000 - momentum: 0.000000\n",
      "2024-12-16 06:03:35,243 epoch 4 - iter 2/2 - loss 2.46059304 - time (sec): 1.22 - samples/sec: 655.58 - lr: 0.100000 - momentum: 0.000000\n",
      "2024-12-16 06:03:35,246 ----------------------------------------------------------------------------------------------------\n",
      "2024-12-16 06:03:35,248 EPOCH 4 done: loss 2.4606 - lr: 0.100000\n",
      "2024-12-16 06:03:35,251  - 3 epochs without improvement\n",
      "2024-12-16 06:03:35,256 ----------------------------------------------------------------------------------------------------\n",
      "2024-12-16 06:03:35,862 epoch 5 - iter 1/2 - loss 2.21484316 - time (sec): 0.60 - samples/sec: 684.59 - lr: 0.100000 - momentum: 0.000000\n",
      "2024-12-16 06:03:36,385 epoch 5 - iter 2/2 - loss 2.17621799 - time (sec): 1.13 - samples/sec: 707.90 - lr: 0.100000 - momentum: 0.000000\n",
      "2024-12-16 06:03:36,386 ----------------------------------------------------------------------------------------------------\n",
      "2024-12-16 06:03:36,388 EPOCH 5 done: loss 2.1762 - lr: 0.100000\n",
      "2024-12-16 06:03:36,390  - 4 epochs without improvement (above 'patience')-> annealing learning_rate to [0.05]\n",
      "2024-12-16 06:03:36,395 ----------------------------------------------------------------------------------------------------\n",
      "2024-12-16 06:03:37,067 epoch 6 - iter 1/2 - loss 2.00290654 - time (sec): 0.67 - samples/sec: 606.36 - lr: 0.050000 - momentum: 0.000000\n",
      "2024-12-16 06:03:37,786 epoch 6 - iter 2/2 - loss 1.86555816 - time (sec): 1.39 - samples/sec: 573.70 - lr: 0.050000 - momentum: 0.000000\n",
      "2024-12-16 06:03:37,788 ----------------------------------------------------------------------------------------------------\n",
      "2024-12-16 06:03:37,790 EPOCH 6 done: loss 1.8656 - lr: 0.050000\n",
      "2024-12-16 06:03:37,792  - 1 epochs without improvement\n",
      "2024-12-16 06:03:37,794 ----------------------------------------------------------------------------------------------------\n",
      "2024-12-16 06:03:38,413 epoch 7 - iter 1/2 - loss 1.71514676 - time (sec): 0.62 - samples/sec: 638.19 - lr: 0.050000 - momentum: 0.000000\n",
      "2024-12-16 06:03:38,902 epoch 7 - iter 2/2 - loss 1.66141050 - time (sec): 1.11 - samples/sec: 720.40 - lr: 0.050000 - momentum: 0.000000\n",
      "2024-12-16 06:03:38,903 ----------------------------------------------------------------------------------------------------\n",
      "2024-12-16 06:03:38,905 EPOCH 7 done: loss 1.6614 - lr: 0.050000\n",
      "2024-12-16 06:03:38,907  - 2 epochs without improvement\n",
      "2024-12-16 06:03:38,910 ----------------------------------------------------------------------------------------------------\n",
      "2024-12-16 06:03:39,604 epoch 8 - iter 1/2 - loss 1.54551178 - time (sec): 0.69 - samples/sec: 570.60 - lr: 0.050000 - momentum: 0.000000\n",
      "2024-12-16 06:03:40,231 epoch 8 - iter 2/2 - loss 1.52375730 - time (sec): 1.32 - samples/sec: 604.45 - lr: 0.050000 - momentum: 0.000000\n",
      "2024-12-16 06:03:40,233 ----------------------------------------------------------------------------------------------------\n",
      "2024-12-16 06:03:40,235 EPOCH 8 done: loss 1.5238 - lr: 0.050000\n",
      "2024-12-16 06:03:40,237  - 3 epochs without improvement\n",
      "2024-12-16 06:03:40,241 ----------------------------------------------------------------------------------------------------\n",
      "2024-12-16 06:03:40,819 epoch 9 - iter 1/2 - loss 1.40328531 - time (sec): 0.58 - samples/sec: 709.15 - lr: 0.050000 - momentum: 0.000000\n",
      "2024-12-16 06:03:41,336 epoch 9 - iter 2/2 - loss 1.37789323 - time (sec): 1.09 - samples/sec: 730.16 - lr: 0.050000 - momentum: 0.000000\n",
      "2024-12-16 06:03:41,337 ----------------------------------------------------------------------------------------------------\n",
      "2024-12-16 06:03:41,338 EPOCH 9 done: loss 1.3779 - lr: 0.050000\n",
      "2024-12-16 06:03:41,339  - 4 epochs without improvement (above 'patience')-> annealing learning_rate to [0.025]\n",
      "2024-12-16 06:03:41,341 ----------------------------------------------------------------------------------------------------\n",
      "2024-12-16 06:03:41,874 epoch 10 - iter 1/2 - loss 1.29961121 - time (sec): 0.53 - samples/sec: 752.05 - lr: 0.025000 - momentum: 0.000000\n",
      "2024-12-16 06:03:42,376 epoch 10 - iter 2/2 - loss 1.21855058 - time (sec): 1.03 - samples/sec: 771.16 - lr: 0.025000 - momentum: 0.000000\n",
      "2024-12-16 06:03:42,377 ----------------------------------------------------------------------------------------------------\n",
      "2024-12-16 06:03:42,378 EPOCH 10 done: loss 1.2186 - lr: 0.025000\n",
      "2024-12-16 06:03:42,379  - 1 epochs without improvement\n",
      "2024-12-16 06:03:43,967 ----------------------------------------------------------------------------------------------------\n",
      "2024-12-16 06:03:43,970 Loading model from best epoch ...\n",
      "2024-12-16 06:03:47,285 SequenceTagger predicts: Dictionary with 27 tags: O, S-DIMENSION, B-DIMENSION, E-DIMENSION, I-DIMENSION, S-MEDIUM, B-MEDIUM, E-MEDIUM, I-MEDIUM, S-ARTIST, B-ARTIST, E-ARTIST, I-ARTIST, S-DATE, B-DATE, E-DATE, I-DATE, S-ART_TITLE, B-ART_TITLE, E-ART_TITLE, I-ART_TITLE, S-TITLE, B-TITLE, E-TITLE, I-TITLE, <START>, <STOP>\n"
     ]
    },
    {
     "name": "stderr",
     "output_type": "stream",
     "text": [
      "100%|██████████| 1/1 [00:01<00:00,  1.81s/it]"
     ]
    },
    {
     "name": "stdout",
     "output_type": "stream",
     "text": [
      "2024-12-16 06:03:49,618 \n",
      "Results:\n",
      "- F-score (micro) 0.0118\n",
      "- F-score (macro) 0.0065\n",
      "- Accuracy 0.0068\n",
      "\n",
      "By class:\n",
      "              precision    recall  f1-score   support\n",
      "\n",
      "   DIMENSION     0.0308    0.0526    0.0388        38\n",
      "        DATE     0.0000    0.0000    0.0000        38\n",
      "      ARTIST     0.0000    0.0000    0.0000        38\n",
      "   ART_TITLE     0.0000    0.0000    0.0000        36\n",
      "      MEDIUM     0.0000    0.0000    0.0000        38\n",
      "       TITLE     0.0000    0.0000    0.0000         1\n",
      "\n",
      "   micro avg     0.0133    0.0106    0.0118       189\n",
      "   macro avg     0.0051    0.0088    0.0065       189\n",
      "weighted avg     0.0062    0.0106    0.0078       189\n",
      "\n",
      "2024-12-16 06:03:49,619 ----------------------------------------------------------------------------------------------------\n"
     ]
    },
    {
     "name": "stderr",
     "output_type": "stream",
     "text": [
      "\n"
     ]
    },
    {
     "data": {
      "text/plain": [
       "{'test_score': 0.011799410029498525}"
      ]
     },
     "execution_count": 26,
     "metadata": {},
     "output_type": "execute_result"
    }
   ],
   "execution_count": 26
  },
  {
   "metadata": {
    "ExecuteTime": {
     "end_time": "2024-12-16T11:03:51.719124Z",
     "start_time": "2024-12-16T11:03:49.707415Z"
    }
   },
   "cell_type": "code",
   "source": [
    "# Load trained model.\n",
    "model = SequenceTagger.load(\"./ner-model/final-model.pt\")"
   ],
   "id": "c74e6a7f2f8c7d14",
   "outputs": [
    {
     "name": "stdout",
     "output_type": "stream",
     "text": [
      "2024-12-16 06:03:51,370 SequenceTagger predicts: Dictionary with 27 tags: O, S-DIMENSION, B-DIMENSION, E-DIMENSION, I-DIMENSION, S-MEDIUM, B-MEDIUM, E-MEDIUM, I-MEDIUM, S-ARTIST, B-ARTIST, E-ARTIST, I-ARTIST, S-DATE, B-DATE, E-DATE, I-DATE, S-ART_TITLE, B-ART_TITLE, E-ART_TITLE, I-ART_TITLE, S-TITLE, B-TITLE, E-TITLE, I-TITLE, <START>, <STOP>\n"
     ]
    }
   ],
   "execution_count": 27
  },
  {
   "metadata": {
    "ExecuteTime": {
     "end_time": "2024-12-16T11:05:52.292767Z",
     "start_time": "2024-12-16T11:05:50.545402Z"
    }
   },
   "cell_type": "code",
   "source": [
    "# Test the model\n",
    "from icecream import ic\n",
    "\n",
    "# test_string = \"'The Last Supper' by Leonardo da Vinnci; 1498 - tempera on stone, 460x880cm\"\n",
    "test_string = \"'The Kiss' by Gustaf Klimt; 1908 - oil and gold leaf on canvas, 180x180 cm\"\n",
    "test_sentence = Sentence(test_string)\n",
    "\n",
    "model.predict(test_sentence)\n",
    "\n",
    "for entity in test_sentence.get_spans(\"ner\"):\n",
    "    ic(entity.text)\n",
    "    ic(entity.start_position)\n",
    "    ic(entity.end_position)\n",
    "    ic(entity.tag)"
   ],
   "id": "66b1a3a322202f01",
   "outputs": [
    {
     "name": "stderr",
     "output_type": "stream",
     "text": [
      "ic| entity.text: \"'The Kiss'\"\n",
      "ic| entity.start_position: 0\n",
      "ic| entity.end_position: 10\n",
      "ic| entity.tag: 'ART_TITLE'\n",
      "ic| entity.text: 'by'\n",
      "ic| entity.start_position: 11\n",
      "ic| entity.end_position: 13\n",
      "ic| entity.tag: 'ART_TITLE'\n",
      "ic| entity.text: 'Gustaf Klimt'\n",
      "ic| entity.start_position: 14\n",
      "ic| entity.end_position: 26\n",
      "ic| entity.tag: 'ARTIST'\n",
      "ic| entity.text: 'oil and'\n",
      "ic| entity.start_position: 35\n",
      "ic| entity.end_position: 42\n",
      "ic| entity.tag: 'MEDIUM'\n",
      "ic| entity.text: 'gold leaf on canvas,'\n",
      "ic| entity.start_position: 43\n",
      "ic| entity.end_position: 63\n",
      "ic| entity.tag: 'MEDIUM'\n",
      "ic| entity.text: '180x180 cm'\n",
      "ic| entity.start_position: 64\n",
      "ic| entity.end_position: 74\n",
      "ic| entity.tag: 'DIMENSION'\n"
     ]
    }
   ],
   "execution_count": 30
  },
  {
   "metadata": {
    "ExecuteTime": {
     "end_time": "2024-12-16T11:03:53.116539Z",
     "start_time": "2024-12-16T11:03:53.113495Z"
    }
   },
   "cell_type": "code",
   "source": "",
   "id": "1b067e0c0ac70055",
   "outputs": [],
   "execution_count": null
  }
 ],
 "metadata": {
  "kernelspec": {
   "display_name": "Python 3",
   "language": "python",
   "name": "python3"
  },
  "language_info": {
   "codemirror_mode": {
    "name": "ipython",
    "version": 2
   },
   "file_extension": ".py",
   "mimetype": "text/x-python",
   "name": "python",
   "nbconvert_exporter": "python",
   "pygments_lexer": "ipython2",
   "version": "2.7.6"
  }
 },
 "nbformat": 4,
 "nbformat_minor": 5
}
